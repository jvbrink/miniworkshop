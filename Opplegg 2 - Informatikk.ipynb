{
 "cells": [
  {
   "cell_type": "markdown",
   "metadata": {},
   "source": [
    "# Fibonnaci-følgen og rekursjon\n",
    "\n",
    "Den følgende tallrekka er ganske berømt\n",
    "$$1, 1, 2, 3, 5, 8, 13, 21, 34, 55, 89, 144, ...$$\n",
    "Den kalles Fibonnaci-følgen, eller bare for Fibonacci tallene. Følgen lages ved at hvert nye tall i rekken er summen av de to foregående. Matematisk blir formelen\n",
    "$$F_n = F_{n-1} + F_{n-2},$$\n",
    "hvor $F(n)$ er det $n$'te Fibonnaci-tallet. Dette er en *rekursiv* definisjon, som betyr at det er gjentagende. For å finne $F_n$ må vi først finne de to lavere tallene, men for å finne de må vi gå enda lavere, osv.\n",
    "\n",
    "Rekursivitet er et veldig viktig konsept i informatikk, og kan brukes til å løse mange problemer på en effektiv og elegant måte, men om vi koder det litt feil kan det også føre til problemer."
   ]
  },
  {
   "cell_type": "markdown",
   "metadata": {},
   "source": [
    "#### The Gylne snitt\n",
    "\n",
    "En av grunnene til at Fibonacci tallene er interesante er at forholdet mellom to tall som følger hverandre i rekka vil nærme seg det gylne snitt\n",
    "$$F(n)/F(n - 1) ≈ \\varphi = 1.61803...$$\n",
    "Jo lengre ut i rekka vi går (jo større $n$ blir), jo bedre blir tilnærmingen.\n",
    "\n",
    "Det gylne snitt er et veldig spennende tall med mange matematiske egenskaper. Det er også et irrasjonelt tall, som vil si at desimalene aldri gjentar seg, men fortsetter å forandre seg uansett hvor langt ned i desimalene vi går. Om vi ønsker å bruke Fibonnaci-følget for å regne ut en god tilnærming til $\\varphi$ må vi derfor finne en måte å kunne regne ut $F$ for store tall. (Det finnes langt bedre og lettere måter og regne ut desimaler av $\\varphi$, men det ignorerer vi for nå).\n",
    "\n",
    "*En Fibonaccispiral*\n",
    "<img src=\"https://img.purch.com/w/640/aHR0cDovL3d3dy5saXZlc2NpZW5jZS5jb20vaW1hZ2VzL2kvMDAwLzA1NC8xNTMvaTAyL2dvbGRlbi1yYXRpby5qcGc/MTM3MjExNTk2Mw==\" style=\"width:260px;\" />\n",
    "Kilde: https://www.livescience.com/37704-phi-golden-ratio.html"
   ]
  },
  {
   "cell_type": "markdown",
   "metadata": {},
   "source": [
    "### Viktigheten av et \"base case\""
   ]
  },
  {
   "cell_type": "markdown",
   "metadata": {},
   "source": [
    "For at vår definisjon av det $n$'te Fibonaccitallet skal gi mening må vi gi rekka et startpunkt, vi definerer derfor at\n",
    "$$\\qquad F_1 = 1, \\qquad F_2 = 1.$$\n",
    "Om vi *ikke* hadde gjort dette, så ville ikke rekka vært forankret noe sted og rekursiviteten ville aldri stopper. I informatikk kalles dette  gjerne for et **base case**, eller et \"grunnleggende tilfelle\" på norsk."
   ]
  },
  {
   "cell_type": "markdown",
   "metadata": {},
   "source": [
    "#### Oppgave (a)\n",
    "\n",
    "Regn ut $F_{15}$ for hånd. (Hint: Du kan fortsette på rekka over)"
   ]
  },
  {
   "cell_type": "markdown",
   "metadata": {},
   "source": [
    "#### Oppgave (b)\n",
    "\n",
    "Kod en funksjon `fibonnaci`, som implementerer den rekursive formelen\n",
    "$$F_n = F_{n-1} + F_{n-2}.$$\n",
    "Vent med å inkludere et base case."
   ]
  },
  {
   "cell_type": "code",
   "execution_count": 1,
   "metadata": {
    "collapsed": true
   },
   "outputs": [],
   "source": [
    "# din kode her"
   ]
  },
  {
   "cell_type": "markdown",
   "metadata": {},
   "source": [
    "Hva skjer om du prøver å kalle på funksjonen med for eksempel `fibonnaci(20)`?"
   ]
  },
  {
   "cell_type": "code",
   "execution_count": 3,
   "metadata": {
    "collapsed": true
   },
   "outputs": [],
   "source": [
    "# din kode her"
   ]
  },
  {
   "cell_type": "markdown",
   "metadata": {},
   "source": [
    "Når du prøver å kalle funksjonen din vil du nok få en feilmelding, men prøv å forstå hva feilmeldingen sier og hva som skjer når du kjører koden."
   ]
  },
  {
   "cell_type": "markdown",
   "metadata": {},
   "source": [
    "#### Oppgave (c)\n",
    "\n",
    "Legg nå til de to grunnleggende tilfellene ved å bruke en if-test på inputen. Sjekk at funksjonen fungerer som du tror ved å skrive ut de første 20 Fibonnaci-tallene."
   ]
  },
  {
   "cell_type": "code",
   "execution_count": 5,
   "metadata": {
    "collapsed": true
   },
   "outputs": [],
   "source": [
    "# din kode her"
   ]
  },
  {
   "cell_type": "markdown",
   "metadata": {},
   "source": [
    "#### Oppgave (d)\n",
    "\n",
    "Bruk programmet ditt til å tilnærme the gylne snitt med de første 10 Fibonnaci-tallene. Hvor mange desimaler er korrekte? For referanse så begynner det gylne snitt som\n",
    "$$\\varphi = 1.6180339887...$$\n",
    "(Kilde for $\\varphi$ opp til 1 million desimaler: https://www.goldennumber.net/phi-million-places/)\n"
   ]
  },
  {
   "cell_type": "code",
   "execution_count": 7,
   "metadata": {
    "collapsed": true
   },
   "outputs": [],
   "source": [
    "# din kode her"
   ]
  },
  {
   "cell_type": "markdown",
   "metadata": {},
   "source": [
    "Hvilken $n$ trenger du å bruke for å få 5 riktige desimaler?"
   ]
  },
  {
   "cell_type": "code",
   "execution_count": 9,
   "metadata": {
    "collapsed": true
   },
   "outputs": [],
   "source": [
    "# din kode her"
   ]
  },
  {
   "cell_type": "markdown",
   "metadata": {},
   "source": [
    "## Hva med store $n$?\n",
    "\n",
    "Du har nå implementert en funksjon som finner det $n$'te Fibonnaci-tallet. I prinsippet fungerer denne helt fint for alle $n$, uansett hvor store. Men, i praksis, hvis du prøver med et litt større tall, f.eks 50, går det veldig tregt.\n",
    "\n",
    "Grunnen til at det går så tregt er at hvert kall til `fibonacci`-funksjonen genererer to nye. Det er altså ikke det at funksjonen er rekursiv som er problemet, men at antall funksjonskall vil vokse veldig fort. Om vi f.eks gjør kallet `fibonnaci(100)`, vil kallene `fibonnaci(99)` og `fibonnaci(98)` genereres. Hver av disse vil generere to nye hver, som gir 4. Disse 4 gir 8, som gir 16 og så videre. Altså vokser antall funksjonstall eksponentielt! Vi ser at for `fibonnaci(100)` får vi hele:\n",
    "$$2^{100} = 1.27\\cdot 10^{30} \\ \\text{funksjonskall}$$\n",
    "Når det er så mange kall har det ingenting å si at hvert kall tar et millisekund eller mindre, det vil fortsatt ta så og si uendelig lang tid å fullføre programmet. Ikke bare det, men antageligvis kræsjer programmet uansett (husker du feilen du fikk tidligere)?\n",
    "\n",
    "Hvis du fortsatt ikke er overbevist over kompleksiteten, prøv å tegn et tre som representerer funksjonskallene for $n=100$, og du ser at du går tom for papir rimelig kjapt."
   ]
  },
  {
   "cell_type": "markdown",
   "metadata": {},
   "source": [
    "### Optimalisering\n",
    "\n",
    "Vi skal nå prøve å finne en mer effektiv måte å regne ut Fibonnaci-tallene. Vi har allerede en løsning som fungerer, nå handler det om å *optimalisere* den. For å gjøre dette må vi bruke noe som kalles \"dynamisk programmering\". Et viktig konsept i informatikk, med et ganske tullete og vagt navn. \n",
    "\n",
    "Å optimalisere en algoritme eller en kode er alltid avhengig av hvilket problem man ser på. Det første vi må gjøre er derfor å skjønne hvorfor det går tregt, å prøve å finne mulige steder å forbedre det."
   ]
  },
  {
   "cell_type": "markdown",
   "metadata": {},
   "source": [
    "#### Oppgave (e)\n",
    "\n",
    "Tegn opp et tree av alle funksjonskall som skjer når du kaller `fibonnaci(5)`. Husk at kallene slutter når de treffer $n=2$ eller $n=1$.\n",
    "\n",
    "Hvor mange ganger regnes $F_3$ ut, når vi egentlig er ute etter $F_5$? Hvor mange ganger tror du $F_3$ regnes ut hvis vi prøver å regne ut f.eks $F_{10}$?"
   ]
  },
  {
   "cell_type": "markdown",
   "metadata": {},
   "source": [
    "### Memoisering\n",
    "\n",
    "Vi ser at algoritmen vår er veldig ineffektiv, fordi den regner ut det samme tallet mange ganger unødvendig. Jo større $n$ vi bruker, jo flere unødvendige utregninger gjøres.\n",
    "\n",
    "Her kan vi bruke en teknikk som heter *memoisering*, som kort fortalt handler om å huske på tidligere løsninger. På den måten kan vi gjenbruke dem, istedenfor å regne dem ut på nytt. Dermed vil programmet kun trenge å regne ut de tallene den ikke allerede kjenner."
   ]
  },
  {
   "cell_type": "markdown",
   "metadata": {},
   "source": [
    "#### Oppgave (f)\n",
    "\n",
    "Du skal nå skrive en ny funksjon du kan kalle `fibmemo`. Utenfor funksjonen laget vi en tom dictionary som heter `memo`. Skriv funksjonen slik at den først sjekker om $n$ allerede finnes i `memo` før den gjør rekursive kall. Hvis $F_n$ er i `memo` kan det bare returneres med en gang, hvis ikke må vi gjøre rekursive kall. I det tilfellet at tallet må regnes ut 'fra scratch', så er det viktig at det legges inn i memo før vi returnerer det."
   ]
  },
  {
   "cell_type": "code",
   "execution_count": 11,
   "metadata": {
    "collapsed": true
   },
   "outputs": [],
   "source": [
    "memo = {}\n",
    "\n",
    "def fibmemo(n):\n",
    "    # Sjekk basecase\n",
    "    \n",
    "    # Sjekk om F_n er i memo og returner hvis nødvendig\n",
    "    \n",
    "    # Hvis ikke:\n",
    "    # Regn ut F_n rekursivt\n",
    "    # Legg F_n inn i memo for fremtidig bruk\n",
    "    # Returner F_n\n",
    "    return F_n\n",
    "    "
   ]
  },
  {
   "cell_type": "markdown",
   "metadata": {},
   "source": [
    "Test at funksjonen din fungerer ved å skrive ut de 10 første Fibonnaci-tallene"
   ]
  },
  {
   "cell_type": "code",
   "execution_count": 2,
   "metadata": {
    "collapsed": true
   },
   "outputs": [],
   "source": [
    "# din kode her"
   ]
  },
  {
   "cell_type": "markdown",
   "metadata": {},
   "source": [
    "#### Oppgave (g)\n",
    "\n",
    "Hvis alt er implementer riktig skal du nå se at funksjonen din er utrolig mye raskere, prøv med $F(100)$, fungerer det? Hva med $F(1000)$?\n"
   ]
  },
  {
   "cell_type": "code",
   "execution_count": 15,
   "metadata": {
    "collapsed": true
   },
   "outputs": [],
   "source": [
    "# din kode her"
   ]
  },
  {
   "cell_type": "markdown",
   "metadata": {},
   "source": [
    "#### Oppgave (h)\n",
    "\n",
    "Prøv å kalle `fibmemo(100000)`. Fungerer det? Hvorfor ikke? Kan du komme på en work-around for dette problemet? \n",
    "\n",
    "Hint: Problemet er at vi starter på toppen. Prøv å bruk en for-løkke til å regne ut Fibonnaci-tallene oppover mot 100000 først (uten å skrive dem ut) for å bygge opp memoiserings-databasen vår."
   ]
  },
  {
   "cell_type": "code",
   "execution_count": 4,
   "metadata": {
    "collapsed": false,
    "scrolled": false
   },
   "outputs": [],
   "source": [
    "# din kode her"
   ]
  },
  {
   "cell_type": "markdown",
   "metadata": {},
   "source": [
    "## Project Euler Fibonnaci-oppgaver\n",
    "\n",
    "Nå som dere har implementert en effektiv funksjon for å regne ut Fibonnacitall kan vi jo bruke den til å løse noen oppgaver. \n",
    "\n",
    "[Project Euler](https://projecteuler.net/archives) er en nettside som lister over 500 programmeringsnøtter som du kan løses med akkurat det programmeringspråket eller verktøyet du selv ønsker (noen kan også løses for hånd om du finner riktig vinkling). De starter forholdsvis enkle, men blir raskt mer utfordrende. De første er løst av nærmere 1 million mennesker, mens de aller siste ofte er løst av ned mot 100. Merk også at man ikke trenger å løse dem i rekkefølge. \n",
    "\n",
    "Under følger to av oppgavene fra Project Euler som handler om Fibonnacitall. For å sjekke svarene kan du enten lage en bruker på Project Euler og submittere svarene der, eller om du ikke ønsker å gjøre det, så kan du bare sjekke med en av oss. Når man submitterer riktig svar på ProjectEuler får man tilgang til et forum hvor man kan se andres løsninger og diskutere forskjellige vinklinger av problemet og optimaliseringer som kan gjøres."
   ]
  },
  {
   "cell_type": "markdown",
   "metadata": {},
   "source": [
    "#### Tileggsoppgave (1), aka, Project Euler's Oppgave 2\n",
    "\n",
    "La oss se på Fibonnaci-følget hvor alle tallene er under 100:\n",
    "\n",
    "$$1,\\ 1,\\ 2,\\ 3,\\ 5,\\ 8,\\ 13,\\ 21,\\ 34,\\ 55,\\ 89$$\n",
    "\n",
    "Hvis vi tar summen av partallene i følgen over får vi\n",
    "$$2 + 8 + 34 = 44.$$\n",
    "\n",
    "**Oppgave:** Finn summen av alle partall i den lengste Fibonnaci-følgen hvor alle tallene i følgen er under fire millioner."
   ]
  },
  {
   "cell_type": "code",
   "execution_count": 19,
   "metadata": {
    "collapsed": true
   },
   "outputs": [],
   "source": [
    "# din kode her"
   ]
  },
  {
   "cell_type": "markdown",
   "metadata": {},
   "source": [
    "#### Tileggsoppgave (2), aka, Project Euler's Oppgave 25\n",
    "De 12 første tallene i Fibonnaci-følget er\n",
    "$$1,\\ 1,\\ 2,\\ 3,\\ 5,\\ 8,\\ 13,\\ 21,\\ 34,\\ 55,\\ 89, 144$$\n",
    "Så vi ser at det 12te tallet, altså $F_{12}$, er det første tallet som har 3 siffer. \n",
    "\n",
    "**Oppgave:** Hvilken $n$-verdi er den første som gir et Fibonnacitall $F_n$ med 1000 siffer?"
   ]
  },
  {
   "cell_type": "code",
   "execution_count": 22,
   "metadata": {
    "collapsed": true
   },
   "outputs": [],
   "source": [
    "# din kode her"
   ]
  },
  {
   "cell_type": "markdown",
   "metadata": {},
   "source": [
    "### Andre programmeringsoppgaver med Fibonnaci\n",
    "* https://open.kattis.com/problems/fibonacci\n",
    "\n",
    "* https://open.kattis.com/problems/fibtour\n",
    "\n",
    "* https://projecteuler.net/problem=104"
   ]
  }
 ],
 "metadata": {
  "kernelspec": {
   "display_name": "Python 2",
   "language": "python",
   "name": "python2"
  },
  "language_info": {
   "codemirror_mode": {
    "name": "ipython",
    "version": 2
   },
   "file_extension": ".py",
   "mimetype": "text/x-python",
   "name": "python",
   "nbconvert_exporter": "python",
   "pygments_lexer": "ipython2",
   "version": "2.7.14"
  }
 },
 "nbformat": 4,
 "nbformat_minor": 2
}
