{
 "cells": [
  {
   "cell_type": "markdown",
   "metadata": {},
   "source": [
    "# Fraktaler\n",
    "\n",
    "En *fraktal* er en ting som har 'spennende struktur' samme hvor langt du zoomer inn. Om man ser for seg et helt valig bord ser det spennende ut om du står et stykke unna, da det da har bein som stikker ut på artige måter, men om du går helt inntil beina begynner de å se kjedelige og flate ut."
   ]
  },
  {
   "cell_type": "markdown",
   "metadata": {},
   "source": [
    "Under ser du en fraktal som zoomes inn på. Merk at samme hvor langt inn vi kommer ser vi hele tiden nye detaljer. Snirklene vi ser har egne snirkler, og de snirklene har igjen egne snirkler, og så videre i uendeligheten.\n",
    "\n",
    "*Mandelbrotmengden, en klassisk fraktal*\n",
    "<img src=\"https://upload.wikimedia.org/wikipedia/commons/a/a4/Mandelbrot_sequence_new.gif\" style=\"width:260px;\" />\n",
    "Kilde: Wikimedia Commons"
   ]
  },
  {
   "cell_type": "markdown",
   "metadata": {},
   "source": [
    "I denne notebooken skal vi lage oss noen egne fraktaler ved hjelp av Pythons `turtle`-bibliotek. Dette kan startes slik:"
   ]
  },
  {
   "cell_type": "code",
   "execution_count": 109,
   "metadata": {},
   "outputs": [],
   "source": [
    "from turtle import *\n",
    "reset()\n",
    "shape(\"turtle\")"
   ]
  },
  {
   "cell_type": "markdown",
   "metadata": {},
   "source": [
    "Når du kjører koden over vil du se et vindu åpne seg med en skilpaddefigur i. Denne skilpadden kan du styre med kommandoene\n",
    "`forward`, `backward`, `left` og `right`, som får den til å bevege seg og tegne streker. Prøv å kjøre koden under og se hva som skjer."
   ]
  },
  {
   "cell_type": "code",
   "execution_count": 2,
   "metadata": {},
   "outputs": [],
   "source": [
    "forward(100) # gå frem 100 skritt\n",
    "left(90)     # snu 90 grader til venstre (mot klokka)\n",
    "forward(200) # gå frem 200 skritt"
   ]
  },
  {
   "cell_type": "markdown",
   "metadata": {},
   "source": [
    "Under ser du hvordan du kan endre form og farge på skilpadden. Prøv å kjøre koden under, så koden over og se at streken nå blir annerledes."
   ]
  },
  {
   "cell_type": "code",
   "execution_count": 3,
   "metadata": {},
   "outputs": [],
   "source": [
    "shape(\"classic\")         # endrer formen på skilpadden\n",
    "color((0.1, 0.8, 0.5))   # endrer fargen (tallene er andelen rødt, grønt, blått)\n",
    "width(2)                 # gjør streken bredere"
   ]
  },
  {
   "cell_type": "markdown",
   "metadata": {},
   "source": [
    "Vil du begynne på nytt kan du kjøre linja under."
   ]
  },
  {
   "cell_type": "code",
   "execution_count": 4,
   "metadata": {},
   "outputs": [],
   "source": [
    "reset()"
   ]
  },
  {
   "cell_type": "markdown",
   "metadata": {},
   "source": [
    "**Oppgave a): Tegn en likesidet trekant**\n",
    "\n",
    "Skriv kode i cellen under som når du kjører får skilpadda til å tegne en likesidet trekant. Husk at om arket blir rotete kan du bruke `turtle.reset()` (se cellen over) for å begynne på nytt."
   ]
  },
  {
   "cell_type": "code",
   "execution_count": 5,
   "metadata": {},
   "outputs": [],
   "source": [
    "# din kode her"
   ]
  },
  {
   "cell_type": "markdown",
   "metadata": {},
   "source": [
    "**Oppgave b): Tegn en likesidet femkant**\n",
    "\n",
    "Skriv kode i cellen under som tegner en regulær femkant. Hvor stor blir vinkelen? Hvorfor?"
   ]
  },
  {
   "cell_type": "code",
   "execution_count": 6,
   "metadata": {},
   "outputs": [],
   "source": [
    "# din kode her"
   ]
  },
  {
   "cell_type": "markdown",
   "metadata": {},
   "source": [
    "I oppgavene over kan det hende du skrev det samme mange ganger. I introduksjonen lærte du at man kan be Python om å gjøre noe flere ganger med en `for`-løkke:"
   ]
  },
  {
   "cell_type": "code",
   "execution_count": 7,
   "metadata": {},
   "outputs": [
    {
     "name": "stdout",
     "output_type": "stream",
     "text": [
      "Hei\n",
      "Hei\n",
      "Hei\n",
      "Hei\n",
      "Hei\n"
     ]
    }
   ],
   "source": [
    "# skriv \"Hei\" 5 ganger\n",
    "for n in range(5):  \n",
    "    print(\"Hei\")"
   ]
  },
  {
   "cell_type": "markdown",
   "metadata": {},
   "source": [
    "I cellen over betyr `range(5)` 'listen av tall fra 0 til 5'. Så `for n in range(5)` vil da først sette `n` til å være 0, gjøre det som står under, så sette `n` til å være 1, gjøre det igjen og så videre. Over gjorde vi bare én ting, men vi kunne godt gjort mer:"
   ]
  },
  {
   "cell_type": "code",
   "execution_count": 8,
   "metadata": {},
   "outputs": [
    {
     "name": "stdout",
     "output_type": "stream",
     "text": [
      "Hei\n",
      "Nå er n = 0\n",
      "Hei\n",
      "Nå er n = 1\n",
      "Hei\n",
      "Nå er n = 2\n",
      "Denne utskriften er utenfor for-løkka\n"
     ]
    }
   ],
   "source": [
    "for n in range(3):\n",
    "    print(\"Hei\")\n",
    "    print(\"Nå er n =\", n)\n",
    "    \n",
    "# denne linja begynner ikke med mellomrom, så Python skjønner at den ikke skal med \n",
    "print(\"Denne utskriften er utenfor for-løkka\") "
   ]
  },
  {
   "cell_type": "markdown",
   "metadata": {},
   "source": [
    "**Oppgave c)**\n",
    "\n",
    "Gå tilbake til oppgave a) og b) og endre på løsningene dine så de bruker `for`-løkker."
   ]
  },
  {
   "cell_type": "markdown",
   "metadata": {},
   "source": [
    "**Oppgave d)**\n",
    "\n",
    "Skriv en funksjon `nkant(N)` som tar et tall $N$ som argument og får skilpadden til å tegne en regulær $N$-kant. (Husk at 'regulær' betyr 'der alle vinkler og sider er like store.)"
   ]
  },
  {
   "cell_type": "code",
   "execution_count": 9,
   "metadata": {},
   "outputs": [],
   "source": [
    "def nkant(N):\n",
    "    # din kode her\n",
    "    pass \n",
    "\n",
    "# linja under kjører funksjonen din med N=8\n",
    "nkant(8)"
   ]
  },
  {
   "cell_type": "markdown",
   "metadata": {},
   "source": [
    "## Rekursjon\n",
    "En rekursiv funksjon er en som er definert ved hjelp av seg selv. Se på funksjonen under. Hva tror du den gjør?"
   ]
  },
  {
   "cell_type": "code",
   "execution_count": 135,
   "metadata": {},
   "outputs": [
    {
     "name": "stdout",
     "output_type": "stream",
     "text": [
      "4  var litt stort. Jeg må se på 3 først\n",
      "3  var litt stort. Jeg må se på 2 først\n",
      "2  var litt stort. Jeg må se på 1 først\n",
      "1  var litt stort. Jeg må se på 0 først\n",
      "0 er no stress!\n",
      "Nå er jeg ferdig med å regne ut rekursiv_sum av 1\n",
      "Nå er jeg ferdig med å regne ut rekursiv_sum av 2\n",
      "Nå er jeg ferdig med å regne ut rekursiv_sum av 3\n",
      "Nå er jeg ferdig med å regne ut rekursiv_sum av 4\n",
      "rekursiv_sum(4) =  10\n"
     ]
    }
   ],
   "source": [
    "def rekursiv_sum(n):\n",
    "    if n > 0:\n",
    "        print(n, \" var litt stort. Jeg må se på\", n-1, \"først\")\n",
    "        s = n + rekursiv_sum(n-1)\n",
    "        print(\"Nå er jeg ferdig med å regne ut rekursiv_sum av\", n)\n",
    "        return s\n",
    "    else:\n",
    "        print(\"0 er no stress!\")\n",
    "        return 0\n",
    "    \n",
    "print(\"rekursiv_sum(4) = \", rekursiv_sum(4))"
   ]
  },
  {
   "cell_type": "markdown",
   "metadata": {},
   "source": [
    "Når Python prøver å regne ut `rekursiv_sum(4)` ser den at det skal være `4 + rekursiv_sum(3)`. Den må altså først regne ut `rekursiv_sum(3)`. Når den prøver det, ser den at det blir `3 + rekursiv_sum(2)`. Sånn kan man kanskje se for seg at dette fortsetter i det uendelige, men når den prøver å regne ut `rekursiv_sum(0)` vil det ikke skje noe nytt funksjonskall, fordi `else`-biten av if-testen vil skje, så Python har 'nådd bånn' og funnet ut at `rekursiv_sum(0) = 0`.\n",
    "\n",
    "Akkurat for å summere tall er dette kanskje ikke så imponerende, men du skal snart se hvordan du kan bruke rekursive funksjoner til å lage artige kurver."
   ]
  },
  {
   "cell_type": "markdown",
   "metadata": {},
   "source": [
    "## Et tre inni et tre\n",
    "Se for deg at vi skal tegne et familietre. Familietreet ditt består av deg, en gren til din ene forelder, og en gren til din andre forelder. I tillegg skal også hver av dine foreldres familietrær med.\n",
    "\n",
    "Det som står over er egentlig en rekursiv definisjon av et familietre, siden ditt familietre er forklart ved hjelp av andres familietrær. \n",
    "\n",
    "**Oppgave e):** Prøv å oversette denne definisjonen til et Python-program `family_tree(n)` som faktisk tegner et familietre. Argumentet `n` skal fortelle Python hvor mange generasjoner av treet den skal tegne. Denne oppgaven er litt tricky - spør gjerne om hjelp om du står fast."
   ]
  },
  {
   "cell_type": "code",
   "execution_count": 175,
   "metadata": {},
   "outputs": [],
   "source": [
    "\n",
    "def family_tree(n):\n",
    "    # først, sjekk hvor mange lag du skal tegne - om du skal tegne 0 lag trenger du ikke gjøre noe\n",
    "    # ellers, gå frem litt\n",
    "    # så, sving til venstre og tegn et familietre med n-1 lag for din ene forelder\n",
    "    # så, sving til høyre og tegn et familietre med n-1 lag for din andre forelder\n",
    "    # til slutt, sving og rygg tilbake til der du startet\n",
    "    pass\n",
    "\n",
    "reset()\n",
    "family_tree(3)"
   ]
  },
  {
   "cell_type": "markdown",
   "metadata": {},
   "source": [
    "Test funksjonen din med et par forskjellige tall. Legger du inn et stort tall kan det da en stund. Da kan du trykke på Kernel->Interrupt Kernel like under Jupyter-logoen.\n",
    "\n",
    "** Oppgave f):** Tell hvor mange streker funksjonen din tegner for  $n=1, 2, 3$ Hvor mange tror du den vil tegne for $n=4$? Tell etter og se om det stemmer. "
   ]
  },
  {
   "cell_type": "markdown",
   "metadata": {},
   "source": [
    "**Oppgave g):** Når du prøver med store $n$ ser du kanskje at linjene i treet ditt begynner å overlappe hverandre. For å fikse dette kan du prøve å la lengden på neste linje minke etter hver som $n$ minker. Endre løsningen din i e) sånn at linjene ikke overlapper hverandre, selv for store $n$."
   ]
  },
  {
   "cell_type": "code",
   "execution_count": 201,
   "metadata": {},
   "outputs": [],
   "source": [
    "speed(0) # denne gjør at skilpadden din beveger seg fortere"
   ]
  },
  {
   "cell_type": "markdown",
   "metadata": {},
   "source": [
    "**Oppgave h):** Under ser du *Koch-snøflakene* av grad 1, 2, 3 og 4.\n",
    "    <img src=\"https://upload.wikimedia.org/wikipedia/commons/thumb/d/d9/KochFlake.svg/362px-KochFlake.svg.png\" style=\"width:260px;\" />\n",
    "Kilde: Wikimedia Commons\n",
    "\n",
    "Prøv å forklare for en av dine medelever hvordan Koch-snøflaket er bygget opp. Skriv en funksjon som tegner kanten til et *Koch-snøflak* av grad $n$. Obs: denne tar nok ganske lang tid å kjøre for $n > 4$."
   ]
  }
 ],
 "metadata": {
  "kernelspec": {
   "display_name": "Python 3",
   "language": "python",
   "name": "python3"
  },
  "language_info": {
   "codemirror_mode": {
    "name": "ipython",
    "version": 3
   },
   "file_extension": ".py",
   "mimetype": "text/x-python",
   "name": "python",
   "nbconvert_exporter": "python",
   "pygments_lexer": "ipython3",
   "version": "3.6.3"
  }
 },
 "nbformat": 4,
 "nbformat_minor": 2
}
